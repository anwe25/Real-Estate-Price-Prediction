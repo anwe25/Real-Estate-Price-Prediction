{
 "cells": [
  {
   "cell_type": "code",
   "execution_count": null,
   "id": "aeed55e2-2cd5-4792-8184-e33926f9fe53",
   "metadata": {},
   "outputs": [
    {
     "data": {
      "text/plain": [
       "array([21.477])"
      ]
     },
     "execution_count": 12,
     "metadata": {},
     "output_type": "execute_result"
    }
   ],
   "source": [
    "from joblib import dump,load \n",
    "import numpy as np\n",
    "model =load( 'Dragon.joblib') \n",
    "features = np.array([[-0.43942006,  3.12628155, -1.12165014, -0.27288841, -1.42262747,\n",
    "       -2.23956956, -1.31238772, 9.61111401, -1.0019859 , -0.5778192 ,\n",
    "       -0.97491834,  0.41164221, -0.86091034]])\n",
    "model.predict(features)"
   ]
  },
  {
   "cell_type": "code",
   "execution_count": null,
   "id": "41f6b8c0-7471-4070-9f87-217457f2e0b0",
   "metadata": {},
   "outputs": [
    {
     "data": {
      "text/plain": [
       "array([21.477])"
      ]
     },
     "execution_count": 11,
     "metadata": {},
     "output_type": "execute_result"
    }
   ],
   "source": [
    "\n",
    "    "
   ]
  },
  {
   "cell_type": "code",
   "execution_count": null,
   "id": "3178a4f6-409a-43e1-8ec3-f038e26a6fdc",
   "metadata": {},
   "outputs": [],
   "source": []
  }
 ],
 "metadata": {
  "kernelspec": {
   "display_name": "Python 3 (ipykernel)",
   "language": "python",
   "name": "python3"
  },
  "language_info": {
   "codemirror_mode": {
    "name": "ipython",
    "version": 3
   },
   "file_extension": ".py",
   "mimetype": "text/x-python",
   "name": "python",
   "nbconvert_exporter": "python",
   "pygments_lexer": "ipython3",
   "version": "3.13.6"
  }
 },
 "nbformat": 4,
 "nbformat_minor": 5
}
